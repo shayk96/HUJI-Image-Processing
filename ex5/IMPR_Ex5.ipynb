{
  "nbformat": 4,
  "nbformat_minor": 0,
  "metadata": {
    "colab": {
      "provenance": [],
      "collapsed_sections": [
        "LY3SOM7bKggZ"
      ]
    },
    "kernelspec": {
      "name": "python3",
      "display_name": "Python 3"
    },
    "language_info": {
      "name": "python"
    },
    "accelerator": "GPU",
    "gpuClass": "standard"
  },
  "cells": [
    {
      "cell_type": "markdown",
      "source": [
        "# Important! \n",
        "When initially opening the notebook there should be a text to the right of the \"Help\" menu saying \"Changes will not be saved\". \n",
        "![WhatsApp Image 2021-01-02 at 22.02.20.jpeg](data:image/jpeg;base64,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)\n",
        "\n",
        "To ensure you can make changes to the notebook save a copy of it to your own drive and work on that one. You can do that by going to \"File\" -> \"Save a copy in Drive\".\n",
        "\n",
        "**Failing to do so will result in code loss!**\n",
        "\n",
        " **Note** Make sure you are the only one that has access to it!\n"
      ],
      "metadata": {
        "id": "7PbmNXuh7WuC"
      }
    },
    {
      "cell_type": "code",
      "source": [
        "#@markdown #Image Processing - 67829. { display-mode: \"form\" }\n",
        "#@markdown ##Exercise 5:  Deep Style Image Prior\n",
        "#@markdown ##Due date: 26.01.2023 at 23:59\n",
        "#@title{ display-mode: \"form\" }\n",
        "\n",
        "#@markdown\n",
        "#@markdown This exercise is a bit different than the rest of the exercises in the course.\n",
        "#@markdown The submissions will be a PDF file with your answers and results to the exercise \n",
        "#@markdown as well as some files so that we can verify the authenticity of your results.\n",
        "#@markdown This notebook provides the basic code, but you do not need to adhere to some specific API \n",
        "#@markdown and we will not be running unit tests on your code. \n",
        "#@markdown We will however, be going over your code and running it manually. \n",
        "#@markdown Moreover, we will be running tests to ensure the authenticity of your solution and detect plagiarism\n",
        "#@markdown\n",
        "#@markdown\n",
        "#@markdown Before you start working on the exercise it is recommended that you review the lecture slides covering neural networks,\n",
        "#@markdown\n",
        "#@markdown \n",
        "#@markdown **NOTE**: Neural networks are typically trained on GPUs, without GPUs training takes much longer. \n",
        "#@markdown To enable GPU tranining click on \"Runtime\" -> \"Change runtime type\" -> \"GPU\" -> \"SAVE\".\n",
        "#@markdown\n",
        "#@markdown **NOTE**: A short guide on debugging your code using colab is availble [here](https://colab.research.google.com/github/jakevdp/PythonDataScienceHandbook/blob/master/notebooks/01.06-Errors-and-Debugging.ipynb#scrollTo=qnIn-rWFqoww).\n",
        "\n",
        "#@markdown But first, we have to download all of the dependencies and install them.\n",
        "#@markdown Play this cell to download it and get everything ready. markdown This may take a few minutes.\n",
        "\n",
        " \n",
        "!mkdir impr_ex5_resources\n",
        "%cd impr_ex5_resources\n",
        "#!wget \"https://www.cs.huji.ac.il/~impr/shape_predictor_68_face_landmarks.dat\" -O shape_predictor_68_face_landmarks.dat \n",
        "#!wget \"https://www.cs.huji.ac.il/~impr/align_faces.py\" -O align_faces.py \n",
        "!wget \"https://www.cs.huji.ac.il/~impr/stylegan2-ada-pytorch.tar\" -O stylegan2-ada-pytorch.tar\n",
        "!tar -xvf stylegan2-ada-pytorch.tar\n",
        "!rm -f stylegan2-ada-pytorch.tar\n",
        "\n",
        "import sys\n",
        "ROOT_PATH=\"/content/impr_ex5_resources/stylegan2-ada-pytorch\"\n",
        "sys.path.append(ROOT_PATH)\n",
        "\n",
        "\n",
        "!pip install ninja\n",
        "!pip install mediapy\n",
        "CHECKPOINTS_PATH = \"https://nvlabs-fi-cdn.nvidia.com/stylegan2-ada/pretrained/ffhq.pkl\"\n",
        "\n",
        "\n",
        "\n",
        "import copy\n",
        "import os\n",
        "from time import perf_counter\n",
        "import click\n",
        "import imageio\n",
        "import numpy as np\n",
        "import PIL.Image\n",
        "import torch\n",
        "import torch.nn.functional as F\n",
        "\n",
        "\n",
        "\n",
        "import dnnlib\n",
        "import legacy\n",
        "import numpy as np\n",
        "from skimage.draw import line\n",
        "from torch.nn.functional import conv2d,conv1d\n",
        "import mediapy as media\n",
        "from IPython.display import clear_output\n"
      ],
      "metadata": {
        "id": "Jean9HbQ7iq-"
      },
      "execution_count": null,
      "outputs": []
    },
    {
      "cell_type": "markdown",
      "source": [
        "# Mounting Google Drive"
      ],
      "metadata": {
        "id": "LY3SOM7bKggZ"
      }
    },
    {
      "cell_type": "code",
      "source": [
        "#@markdown **NOTE**: It is strongly advised you save your results to Google \n",
        "#@markdown Drive as they will be deleted from Colab once it restarts. \n",
        "#@markdown To connect Google Drive run this cell. \n",
        "from google.colab import drive\n",
        "drive.mount('/content/gdrive/')"
      ],
      "metadata": {
        "id": "E8dlOxYdKhyi",
        "colab": {
          "base_uri": "https://localhost:8080/"
        },
        "outputId": "c9ff7cfd-9c65-45fa-f74f-416d20760eb7"
      },
      "execution_count": 2,
      "outputs": [
        {
          "output_type": "stream",
          "name": "stdout",
          "text": [
            "Mounted at /content/gdrive/\n"
          ]
        }
      ]
    },
    {
      "cell_type": "markdown",
      "source": [
        "Below is the root dir of your Google Drive. To choose the destenation of the dir to save and read from, create it in your Google Drive and add the relative path to the \"GDRIVE_SAVE_REL_PATH\" variable below."
      ],
      "metadata": {
        "id": "Lp4YuqH2Lmku"
      }
    },
    {
      "cell_type": "code",
      "source": [
        "ROOT_GDRIVE_PATH=\"/content/gdrive/MyDrive/\"\n",
        "GDRIVE_SAVE_REL_PATH = \"ex5_imp\"\n",
        "FULL_GDRIVE_SAVE_PATH = ROOT_GDRIVE_PATH + GDRIVE_SAVE_REL_PATH"
      ],
      "metadata": {
        "id": "LAjRCCKLLBI5"
      },
      "execution_count": 3,
      "outputs": []
    },
    {
      "cell_type": "markdown",
      "source": [
        "# General Variables"
      ],
      "metadata": {
        "id": "mNEXRTie-E93"
      }
    },
    {
      "cell_type": "code",
      "source": [
        "GAUSSIAN_BLUR_DEGRADATION= 'GAUSSIAN_BLUR_DEGRADATION'\n",
        "GRAYSCALE_DEGRADATION = 'GRAYSCALE_DEGRADATION'\n",
        "INPAINTING_DEGRADATION = 'INPAINTING_DEGRADATION'\n",
        "NO_DEGRADATION= 'NO_DEGRADATION'\n"
      ],
      "metadata": {
        "id": "RFt1dKcO95Qi"
      },
      "execution_count": 4,
      "outputs": []
    },
    {
      "cell_type": "markdown",
      "source": [
        "*italicized text*# Image Alignment"
      ],
      "metadata": {
        "id": "NlMqcLzq9lHv"
      }
    },
    {
      "cell_type": "code",
      "metadata": {
        "id": "cO2O4E5oXn-5",
        "colab": {
          "base_uri": "https://localhost:8080/"
        },
        "outputId": "faf268fa-e1a7-4a47-a0a5-b2c7214d2544"
      },
      "source": [
        "# The align_faces.py script takes in an input image path, an output image path, and a dat file path. The dat file is already downloaded for you, so leave it as it is. \n",
        "# It is advised that you save the files to google drive as restarting Colab will erase them.\n",
        "!python \"$ROOT_PATH/align_faces/align_faces.py\" \"/content/gdrive/MyDrive/ex5_imp/Benjamin_Burnley/Benjamin_Burnley.jpg\" \"/content/gdrive/MyDrive/ex5_imp/Benjamin_Burnley/Benjamin_Burnley_aligned.png\" \"$ROOT_PATH/align_faces/shape_predictor_68_face_landmarks.dat\""
      ],
      "execution_count": 86,
      "outputs": [
        {
          "output_type": "stream",
          "name": "stdout",
          "text": [
            "Number of faces detected: 1\n",
            "Detection 0: Left: 64 Top: 98 Right: 218 Bottom: 253\n",
            "Part 0: (63, 143), Part 1: (61, 164) ...\n"
          ]
        }
      ]
    },
    {
      "cell_type": "markdown",
      "source": [
        "# Degradation Functions "
      ],
      "metadata": {
        "id": "Z7GO7LxPC19b"
      }
    },
    {
      "cell_type": "code",
      "source": [
        "    # ********************************************************************************************************\n",
        "    # ******************                   NEED TO ADD DEGRADATION FUNCTIONS                ******************\n",
        "    # ********************************************************************************************************\n",
        "\n",
        "\n",
        "GAUSSIAN_BASE = [1, 1]\n",
        "FILTER_SIZE = 101\n",
        "DEVICE=torch.device('cuda')\n",
        "\n",
        "\n",
        "def create_blur_filter(filter_size):\n",
        "      filter = np.array(GAUSSIAN_BASE, dtype=np.float64)\n",
        "      for i in range(filter_size - 2):\n",
        "          filter = np.convolve(filter, GAUSSIAN_BASE)\n",
        "      return np.array([filter / sum(filter)])\n",
        "\n",
        "\n",
        "filter = create_blur_filter(FILTER_SIZE)\n",
        "kernel = filter.T @ filter\n",
        "x = kernel.shape[0]\n",
        "y = kernel.shape[1]\n",
        "kernel = torch.tensor(kernel, dtype=torch.float32, device=torch.device('cuda'))\n",
        "kernel = kernel.reshape((1, 1, x, y))\n",
        "kernel = kernel.repeat((3, 1, 1, 1))\n",
        "K = kernel\n",
        "\n",
        "def blur(image):\n",
        "      blurred_image = conv2d(input=image, weight=K, padding='same', groups=3)\n",
        "      return blurred_image\n",
        "\n",
        "\n",
        "def img_to_gray(image):\n",
        "      r, g, b = image.unbind(dim=-3)\n",
        "      l_img = (0.2989 * r + 0.587 * g + 0.114 * b).to(image.dtype)\n",
        "      l_img = l_img.unsqueeze(dim=-3)\n",
        "      return l_img.expand(image.shape)\n",
        "\n",
        "def create_mask(path):\n",
        "      mask = PIL.Image.open(path).convert('RGB')\n",
        "      mask = np.array(mask, dtype=np.bool)\n",
        "      mask=torch.tensor([mask.transpose([2, 0, 1])], device=DEVICE)\n",
        "      return mask\n",
        "\n",
        "def create_masked_image(mask,image):\n",
        "      return torch.mul(image,mask)\n",
        "\n",
        "\n",
        "\n",
        "\n",
        "\n",
        "    \n"
      ],
      "metadata": {
        "id": "PY7gxd63zqnK"
      },
      "execution_count": 78,
      "outputs": []
    },
    {
      "cell_type": "markdown",
      "source": [
        "# GAN Inversion"
      ],
      "metadata": {
        "id": "j2EbeYsb9u7A"
      }
    },
    {
      "cell_type": "code",
      "source": [
        "def run_latent_optimization(loss_lst,\n",
        "                            mask,\n",
        "                            outdir,\n",
        "    degradation_mode,\n",
        "    G,\n",
        "    imgs_to_disply_dict,\n",
        "    target: torch.Tensor, # [C,H,W] and dynamic range [0,255], W & H must match G output resolution\n",
        "    *,\n",
        "    num_steps                  = 1000,\n",
        "    w_avg_samples              = 10000,\n",
        "    initial_learning_rate      = 0.1,\n",
        "    initial_noise_factor       = 0.05,\n",
        "    lr_rampdown_length         = 0.25,\n",
        "    lr_rampup_length           = 0.05,\n",
        "    noise_ramp_length          = 0.75,\n",
        "    regularize_noise_weight    = 1e5,\n",
        "    latent_dist_reg_weight     = 0.001,\n",
        "    device: torch.device\n",
        "    \n",
        "):\n",
        "    assert target.shape == (G.img_channels, G.img_resolution, G.img_resolution)\n",
        "\n",
        "    G = copy.deepcopy(G).eval().requires_grad_(False).to(device) # type: ignore\n",
        "  \n",
        "    # Compute w stats.\n",
        "    print(f'Computing W midpoint and stddev using {w_avg_samples} samples...')\n",
        "    z_samples = np.random.RandomState(123).randn(w_avg_samples, G.z_dim)\n",
        "    w_samples = G.mapping(torch.from_numpy(z_samples).to(device), None)  # [N, L, C]\n",
        "    w_samples = w_samples.cpu().numpy().astype(np.float32)\n",
        "    w_avg = np.mean(w_samples, axis=0, keepdims=True)      # [1, 18, C]\n",
        "    w_avg_original = torch.from_numpy(w_avg).to(device).float()\n",
        "    w_std = (np.sum((w_samples - w_avg) ** 2) / w_avg_samples) ** 0.5\n",
        "\n",
        "    # Setup noise inputs.\n",
        "    noise_bufs = { name: buf for (name, buf) in G.synthesis.named_buffers() if 'noise_const' in name }\n",
        "\n",
        "    # Load VGG16 feature detector.\n",
        "    url = 'https://nvlabs-fi-cdn.nvidia.com/stylegan2-ada-pytorch/pretrained/metrics/vgg16.pt'\n",
        "    with dnnlib.util.open_url(url) as f:\n",
        "        vgg16 = torch.jit.load(f).eval().to(device)\n",
        "    \n",
        "    # Features for target image.\n",
        "    target_images = target.unsqueeze(0).to(device).to(torch.float32)\n",
        "\n",
        "    if target_images.shape[2] > 256:\n",
        "        target_images = F.interpolate(target_images, size=(256, 256), mode='area')\n",
        "    target_features = vgg16(target_images, resize_images=False, return_lpips=True)\n",
        "\n",
        "    w_opt = torch.tensor(w_avg, dtype=torch.float32, device=device, requires_grad=True) \n",
        "    w_out = torch.zeros([num_steps] + list(w_opt.shape[1:]), dtype=torch.float32, device=device)\n",
        "    optimizer = torch.optim.Adam([w_opt] + list(noise_bufs.values()), betas=(0.9, 0.999), lr=initial_learning_rate)\n",
        "    \n",
        "    # Init noise.\n",
        "    for buf in noise_bufs.values():\n",
        "        buf[:] = torch.randn_like(buf)\n",
        "        buf.requires_grad = True\n",
        "\n",
        "    for step in range(num_steps):\n",
        "        # Learning rate schedule.\n",
        "        t = step / num_steps\n",
        "        w_noise_scale = w_std * initial_noise_factor * max(0.0, 1.0 - t / noise_ramp_length) ** 2\n",
        "        lr_ramp = min(1.0, (1.0 - t) / lr_rampdown_length)\n",
        "        lr_ramp = 0.5 - 0.5 * np.cos(lr_ramp * np.pi)\n",
        "        lr_ramp = lr_ramp * min(1.0, t / lr_rampup_length)\n",
        "        lr = initial_learning_rate * lr_ramp\n",
        "        for param_group in optimizer.param_groups:\n",
        "            param_group['lr'] = lr\n",
        "\n",
        "        # Synth image from opt_w\n",
        "        w_noise = torch.randn_like(w_opt) * w_noise_scale\n",
        "        ws = w_opt + w_noise\n",
        "        synth_images = G.synthesis(ws, noise_mode='const')\n",
        "        \n",
        "        # Prep to save synth image\n",
        "        synth_image_save = (synth_images + 1) * (255/2)\n",
        "        synth_image_save = synth_image_save.permute(0, 2, 3, 1).clamp(0, 255).to(torch.uint8)[0].cpu().numpy()\n",
        "    \n",
        "    \n",
        "        # ********************************************************************************************************\n",
        "        # ******************                   NEED TO FILL IN THE FOLLOWING CODE               ******************\n",
        "        # ********************************************************************************************************\n",
        "        if  degradation_mode == INPAINTING_DEGRADATION:\n",
        "              synth_images = create_masked_image(mask,synth_images)\n",
        "        elif degradation_mode == GRAYSCALE_DEGRADATION:\n",
        "              synth_images = img_to_gray(synth_images)\n",
        "        elif degradation_mode == GAUSSIAN_BLUR_DEGRADATION:\n",
        "              synth_images = blur(synth_images)\n",
        "        # ********************************************************************************************************\n",
        "        # ******************                          END CODE TO ADD SECTION                   ******************\n",
        "        # ********************************************************************************************************\n",
        "         \n",
        "        \n",
        "        # Prep to save and show images\n",
        "        synth_image_degraded_save = (synth_images + 1) * (255/2)\n",
        "        synth_image_degraded_save = synth_image_degraded_save.permute(0, 2, 3, 1).clamp(0, 255).to(torch.uint8)[0].cpu().numpy()  \n",
        "        \n",
        "        if step % 20 == 0:\n",
        "          imgs_to_disply_dict[\"Generated Image\"]=synth_image_save\n",
        "          imgs_to_disply_dict[\"Generated Degraded Image\"]=synth_image_degraded_save\n",
        "          clear_output(wait=True)\n",
        "          media.show_images(imgs_to_disply_dict,height=256)\n",
        "        if step % 100 == 0:\n",
        "          PIL.Image.fromarray(synth_image_save, 'RGB').save(f'{outdir}/intermidiate_%d_not_degraded.png'%step)\n",
        "          PIL.Image.fromarray(synth_image_degraded_save, 'RGB').save(f'{outdir}/intermidiate_%d_degraded.png'%step)\n",
        "\n",
        "\n",
        "        # Noise regularization.\n",
        "        reg_loss = 0.0\n",
        "        for v in noise_bufs.values():\n",
        "            noise = v[None,None,:,:] # must be [1,1,H,W] for F.avg_pool2d()\n",
        "            while True:\n",
        "                reg_loss += (noise*torch.roll(noise, shifts=1, dims=3)).mean()**2\n",
        "                reg_loss += (noise*torch.roll(noise, shifts=1, dims=2)).mean()**2\n",
        "                if noise.shape[2] <= 8:\n",
        "                    break\n",
        "                noise = F.avg_pool2d(noise, kernel_size=2)\n",
        "\n",
        "        # Downsample image to 256x256 if it's larger than that. VGG was built for 224x224 images.\n",
        "        synth_images = (synth_images + 1) * (255/2)\n",
        "        if synth_images.shape[2] > 256:\n",
        "            synth_images = F.interpolate(synth_images, size=(256, 256), mode='area')\n",
        "\n",
        "        # Features for synth images.\n",
        "        synth_features = vgg16(synth_images, resize_images=False, return_lpips=True)\n",
        "        \n",
        "        # Compute loss\n",
        "        percep_loss = (target_features - synth_features).square().sum()\n",
        "        latent_dist_reg = F.l1_loss(w_avg_original, w_opt)\n",
        "        loss = percep_loss + reg_loss * regularize_noise_weight  + latent_dist_reg_weight * latent_dist_reg\n",
        "        loss_lst.append((step,loss.item()))\n",
        "        \n",
        "\n",
        "\n",
        "\n",
        "        # Step\n",
        "        optimizer.zero_grad(set_to_none=True)\n",
        "        loss.backward()\n",
        "        optimizer.step()\n",
        "\n",
        "        print(f'step {step+1:>4d}/{num_steps}: percep_loss {percep_loss:<4.2f} latent_dist_reg {latent_dist_reg:<4.2f} loss {float(loss):<5.2f}' )\n",
        "\n",
        "        # Save inverted latent for each optimization step.\n",
        "        w_out[step] = w_opt.detach()[0]\n",
        "\n",
        "        # Normalize noise.\n",
        "        with torch.no_grad():\n",
        "            for buf in noise_bufs.values():\n",
        "                buf -= buf.mean()\n",
        "                buf *= buf.square().mean().rsqrt()\n",
        "    return w_out"
      ],
      "metadata": {
        "id": "daYIThcfi9PP"
      },
      "execution_count": 47,
      "outputs": []
    },
    {
      "cell_type": "code",
      "metadata": {
        "id": "mdFYp5sBor2U"
      },
      "source": [
        "\n",
        "def invert_image(degradation_mode,\n",
        "                   target_fname,\n",
        "                   outdir,\n",
        "                   loss_lst=[],\n",
        "                   mask =\"\",\n",
        "                   seed=303,\n",
        "                   num_steps=1000,\n",
        "                   latent_dist_reg_weight=0.001):\n",
        "    np.random.seed(seed)\n",
        "    torch.manual_seed(seed)\n",
        "\n",
        "    # Load networks.\n",
        "    print('Loading networks from \"%s\"...' % CHECKPOINTS_PATH)\n",
        "    device = torch.device('cuda')\n",
        "    with dnnlib.util.open_url(CHECKPOINTS_PATH) as fp:\n",
        "        networks = legacy.load_network_pkl(fp)\n",
        "        G = networks['G_ema'].requires_grad_(False).to(device)\n",
        "        \n",
        "\n",
        "    # Load target image.\n",
        "    if not os.path.exists(outdir):\n",
        "      os.makedirs(outdir)\n",
        "    target_pil = PIL.Image.open(target_fname).convert('RGB')\n",
        "    w, h = target_pil.size\n",
        "    s = min(w, h)\n",
        "    target_pil = target_pil.crop(((w - s) // 2, (h - s) // 2, (w + s) // 2, (h + s) // 2))\n",
        "    target_pil = target_pil.resize((G.img_resolution, G.img_resolution), PIL.Image.LANCZOS)\n",
        "    target_uint8 = np.array(target_pil, dtype=np.uint8)\n",
        "    target=torch.tensor([target_uint8.transpose([2, 0, 1])], device=device)\n",
        "    target_images = target[0].unsqueeze(0).to(device).to(torch.float32)\n",
        "\n",
        "    # ********************************************************************************************************\n",
        "    # ******************                   NEED TO FILL IN THE FOLLOWING CODE               ******************\n",
        "    # ********************************************************************************************************\n",
        "    if  degradation_mode == INPAINTING_DEGRADATION:\n",
        "      mask = create_mask(mask)\n",
        "      target = create_masked_image(mask,target_images)\n",
        "    elif degradation_mode == GRAYSCALE_DEGRADATION:\n",
        "      if \"alan_turing\" not in target_fname:\n",
        "            target = img_to_gray(target_images)\n",
        "    elif degradation_mode == GAUSSIAN_BLUR_DEGRADATION:\n",
        "      if \"yann_lecun_blur\" not in target_fname:\n",
        "            target = blur(target_images)\n",
        "\n",
        "    # ********************************************************************************************************\n",
        "    # ******************                          END CODE TO ADD SECTION                   ******************\n",
        "    # ********************************************************************************************************\n",
        "\n",
        "    #Save target image\n",
        "    target_to_save = target.permute(0, 2, 3, 1).clamp(0, 255).to(torch.uint8)[0].cpu().numpy()\n",
        "    PIL.Image.fromarray(target_to_save, 'RGB').save(f'{outdir}/original_degraded_image.png')\n",
        "    imgs_to_disply_dict = {\n",
        "        \"Original Image\":target_uint8,\n",
        "        \"Original Degraded Image\":target_to_save,\n",
        "              }\n",
        "\n",
        "    # Run latent optimization\n",
        "    start_time = perf_counter()\n",
        "    optimization_steps = run_latent_optimization(\n",
        "        loss_lst,\n",
        "        mask,\n",
        "        outdir,\n",
        "        degradation_mode,\n",
        "        G,\n",
        "        imgs_to_disply_dict,\n",
        "        target[0],\n",
        "        num_steps=num_steps,\n",
        "        device=device,\n",
        "        latent_dist_reg_weight=latent_dist_reg_weight\n",
        "    )\n",
        "\n",
        "    print (f'Elapsed: {(perf_counter()-start_time):.1f} s')\n",
        "    os.makedirs(outdir, exist_ok=True)\n",
        "\n",
        "    # Save final inverted image and latent vector.\n",
        "    inverted_latent = optimization_steps[-1]\n",
        "    synth_image = G.synthesis(inverted_latent.unsqueeze(0), noise_mode='const')\n",
        "    synth_image = (synth_image + 1) * (255/2)\n",
        "    synth_image = synth_image.permute(0, 2, 3, 1).clamp(0, 255).to(torch.uint8)[0].cpu().numpy()\n",
        "    PIL.Image.fromarray(synth_image, 'RGB').save(f'{outdir}/final_inverted_image.png')\n",
        "    np.savez(f'{outdir}/inverted_latent.npz', latent=inverted_latent.unsqueeze(0).cpu().numpy())"
      ],
      "execution_count": 45,
      "outputs": []
    },
    {
      "cell_type": "code",
      "source": [
        "# 3.2: GAN Inversion Hansi Kürsch\n",
        "\n",
        "mode = NO_DEGRADATION\n",
        "path = \"/content/gdrive/MyDrive/ex5_imp\" \n",
        "input = path + \"/Hansi_Kursch/Hansi_Kürsch_aligned.png\"\n",
        "output = path + \"/Hansi_Kursch/Hansi_Kürsch_rec\"\n",
        "loss_lst = []\n",
        "invert_image(mode,input,output,loss_lst)"
      ],
      "metadata": {
        "id": "b8dy6wt4bnKo"
      },
      "execution_count": null,
      "outputs": []
    },
    {
      "cell_type": "code",
      "source": [
        "# plot loss optimization\n",
        "\n",
        "import matplotlib.pyplot as plt\n",
        "loss_lst = np.array(loss_lst)\n",
        "step = loss_lst[:, 0]\n",
        "loss = loss_lst[:, 1]\n",
        "\n",
        "plt.plot(step, loss, label=\"loss\")\n",
        "plt.xlabel('step')\n",
        "plt.ylabel('loss')\n",
        "plt.title('optimization loss')\n",
        "plt.show()\n",
        "\n",
        "# log scale\n",
        "loss = np.log(loss_lst[:, 1])\n",
        "\n",
        "plt.plot(step, loss, label=\"loss\")\n",
        "plt.xlabel('step')\n",
        "plt.ylabel('loss(logarimtic scale)')\n",
        "plt.title('optimization loss with logarimtic scale')\n",
        "plt.show()\n"
      ],
      "metadata": {
        "id": "pJ2uVHLp-z8x"
      },
      "execution_count": null,
      "outputs": []
    },
    {
      "cell_type": "code",
      "source": [
        "# 3.3.1 Image Deblurring Scott Ian\n",
        "\n",
        "mode = GAUSSIAN_BLUR_DEGRADATION\n",
        "path = \"/content/gdrive/MyDrive/ex5_imp\" \n",
        "input = path + \"/scott_ian/scott_ian_aligned.png\"\n",
        "output = path + \"/scott_ian/scott_ian_rec\"\n",
        "invert_image(mode,input,output)"
      ],
      "metadata": {
        "id": "2cS1SKuYhJNi"
      },
      "execution_count": null,
      "outputs": []
    },
    {
      "cell_type": "code",
      "source": [
        "# 3.3.1 Image Deblurring Yann LeCun\n",
        "\n",
        "mode = GAUSSIAN_BLUR_DEGRADATION\n",
        "path = \"/content/gdrive/MyDrive/ex5_imp\" \n",
        "input = path + \"/yann_lecun_blur/yann_lecun_blur.png\"\n",
        "output = path + \"/yann_lecun_blur/yann_lecun_blur_rec\"\n",
        "invert_image(mode,input,output)"
      ],
      "metadata": {
        "id": "c7JD-HrApKnP"
      },
      "execution_count": null,
      "outputs": []
    },
    {
      "cell_type": "code",
      "source": [
        "# 3.3.1 Image Deblurring with diffrent kernel sizes Ronnie James Dio\n",
        "\n",
        "mode = GAUSSIAN_BLUR_DEGRADATION\n",
        "path = \"/content/gdrive/MyDrive/ex5_imp\" \n",
        "input = path + \"/Ronnie_James_Dio/Ronnie_James_Dio_rec_25/original_degraded_image.png\"\n",
        "output = path + \"/Ronnie_James_Dio/Ronnie_James_Dio_rec_101\"\n",
        "invert_image(mode,input,output)"
      ],
      "metadata": {
        "id": "5mncBwmcVcJK"
      },
      "execution_count": null,
      "outputs": []
    },
    {
      "cell_type": "code",
      "source": [
        "# 3.3.2 Image Colorization of Alan Turing\n",
        "\n",
        "mode = GRAYSCALE_DEGRADATION\n",
        "path = \"/content/gdrive/MyDrive/ex5_imp\" \n",
        "input = path + \"/alan_turing/alan_turing_grayscale.png\"\n",
        "output = path + \"/alan_turing/alan_turing_colorized_0.4\"\n",
        "invert_image(mode,input,output,latent_dist_reg_weight=0.4)"
      ],
      "metadata": {
        "id": "UfLCxFpDZNQq"
      },
      "execution_count": null,
      "outputs": []
    },
    {
      "cell_type": "code",
      "source": [
        "# 3.3.2 Image Colorization of Klaus Meine\n",
        "\n",
        "mode = GRAYSCALE_DEGRADATION\n",
        "path = \"/content/gdrive/MyDrive/ex5_imp\" \n",
        "input = path + \"/Klaus_Meine/Klaus_Meine_aligned.png\"\n",
        "output = path + \"/Klaus_Meine/Klaus_Meine_colorized_0.4\"\n",
        "invert_image(mode,input,output,latent_dist_reg_weight=0.4)"
      ],
      "metadata": {
        "id": "5uFVqcF-vxIw"
      },
      "execution_count": null,
      "outputs": []
    },
    {
      "cell_type": "code",
      "source": [
        "# 3.3.3 Image Inpainting of Fei Fei Li\n",
        "\n",
        "mode = INPAINTING_DEGRADATION\n",
        "path = \"/content/gdrive/MyDrive/ex5_imp\" \n",
        "input = path + \"//Fei_Fei_Li/fei_fei_li_original.png\"\n",
        "output = path + \"/Fei_Fei_Li/fei_fei_li_rec_0.35\"\n",
        "mask = path + \"/Fei_Fei_Li/fei_fei_li_inpainting_mask.png\"\n",
        "invert_image(mode,input,output,mask = mask)"
      ],
      "metadata": {
        "id": "GIqeXc6C6iYo"
      },
      "execution_count": null,
      "outputs": []
    },
    {
      "cell_type": "code",
      "source": [
        "# 3.3.3 Image Inpainting of Benjamin Burnley\n",
        "\n",
        "mode = INPAINTING_DEGRADATION\n",
        "path = \"/content/gdrive/MyDrive/ex5_imp\" \n",
        "input = path + \"/Benjamin_Burnley/Benjamin_Burnley_aligned.png\"\n",
        "output = path + \"/Benjamin_Burnley/Benjamin_Burnley_rec\"\n",
        "mask = path + \"/Fei_Fei_Li/fei_fei_li_inpainting_mask.png\"\n",
        "invert_image(mode,input,output,mask = mask)"
      ],
      "metadata": {
        "id": "vBE_P1YHO_6t"
      },
      "execution_count": null,
      "outputs": []
    }
  ]
}